{
 "cells": [
  {
   "cell_type": "code",
   "execution_count": 53,
   "metadata": {},
   "outputs": [],
   "source": [
    "import pandas as pd\n",
    "import numpy as np\n",
    "import nltk\n",
    "from nltk.tokenize import word_tokenize\n"
   ]
  },
  {
   "cell_type": "code",
   "execution_count": 61,
   "metadata": {},
   "outputs": [],
   "source": [
    "raw_df = pd.read_csv('data/finalised_dataset.csv')"
   ]
  },
  {
   "cell_type": "code",
   "execution_count": 62,
   "metadata": {},
   "outputs": [
    {
     "data": {
      "text/html": [
       "<div>\n",
       "<style scoped>\n",
       "    .dataframe tbody tr th:only-of-type {\n",
       "        vertical-align: middle;\n",
       "    }\n",
       "\n",
       "    .dataframe tbody tr th {\n",
       "        vertical-align: top;\n",
       "    }\n",
       "\n",
       "    .dataframe thead th {\n",
       "        text-align: right;\n",
       "    }\n",
       "</style>\n",
       "<table border=\"1\" class=\"dataframe\">\n",
       "  <thead>\n",
       "    <tr style=\"text-align: right;\">\n",
       "      <th></th>\n",
       "      <th>Unnamed: 0</th>\n",
       "      <th>Recipe ID</th>\n",
       "      <th>Ingredients</th>\n",
       "      <th>Title</th>\n",
       "      <th>Cuisine</th>\n",
       "      <th>preparation_time</th>\n",
       "      <th>difficulty_level</th>\n",
       "      <th>rating</th>\n",
       "    </tr>\n",
       "  </thead>\n",
       "  <tbody>\n",
       "    <tr>\n",
       "      <th>0</th>\n",
       "      <td>0</td>\n",
       "      <td>1</td>\n",
       "      <td>capsicum , pepper bell , soy sauce , sunflower</td>\n",
       "      <td>5 spice vegetable fried rice</td>\n",
       "      <td>Indian Subcontinent</td>\n",
       "      <td>17</td>\n",
       "      <td>easy</td>\n",
       "      <td>5</td>\n",
       "    </tr>\n",
       "    <tr>\n",
       "      <th>1</th>\n",
       "      <td>1</td>\n",
       "      <td>2</td>\n",
       "      <td>buttermilk , cumin , fenugreek , ginger garlic...</td>\n",
       "      <td>aachar aaloo</td>\n",
       "      <td>Indian Subcontinent</td>\n",
       "      <td>19</td>\n",
       "      <td>easy</td>\n",
       "      <td>4</td>\n",
       "    </tr>\n",
       "  </tbody>\n",
       "</table>\n",
       "</div>"
      ],
      "text/plain": [
       "   Unnamed: 0  Recipe ID                                        Ingredients  \\\n",
       "0           0          1    capsicum , pepper bell , soy sauce , sunflower    \n",
       "1           1          2  buttermilk , cumin , fenugreek , ginger garlic...   \n",
       "\n",
       "                          Title              Cuisine  preparation_time  \\\n",
       "0  5 spice vegetable fried rice  Indian Subcontinent                17   \n",
       "1                  aachar aaloo  Indian Subcontinent                19   \n",
       "\n",
       "  difficulty_level  rating  \n",
       "0             easy       5  \n",
       "1             easy       4  "
      ]
     },
     "execution_count": 62,
     "metadata": {},
     "output_type": "execute_result"
    }
   ],
   "source": [
    "raw_df.head(2)"
   ]
  },
  {
   "cell_type": "code",
   "execution_count": 63,
   "metadata": {},
   "outputs": [],
   "source": [
    "raw_df = raw_df.drop(columns=['Unnamed: 0'])"
   ]
  },
  {
   "cell_type": "code",
   "execution_count": 64,
   "metadata": {},
   "outputs": [
    {
     "data": {
      "text/html": [
       "<div>\n",
       "<style scoped>\n",
       "    .dataframe tbody tr th:only-of-type {\n",
       "        vertical-align: middle;\n",
       "    }\n",
       "\n",
       "    .dataframe tbody tr th {\n",
       "        vertical-align: top;\n",
       "    }\n",
       "\n",
       "    .dataframe thead th {\n",
       "        text-align: right;\n",
       "    }\n",
       "</style>\n",
       "<table border=\"1\" class=\"dataframe\">\n",
       "  <thead>\n",
       "    <tr style=\"text-align: right;\">\n",
       "      <th></th>\n",
       "      <th>Recipe ID</th>\n",
       "      <th>Ingredients</th>\n",
       "      <th>Title</th>\n",
       "      <th>Cuisine</th>\n",
       "      <th>preparation_time</th>\n",
       "      <th>difficulty_level</th>\n",
       "      <th>rating</th>\n",
       "    </tr>\n",
       "  </thead>\n",
       "  <tbody>\n",
       "    <tr>\n",
       "      <th>0</th>\n",
       "      <td>1</td>\n",
       "      <td>capsicum , pepper bell , soy sauce , sunflower</td>\n",
       "      <td>5 spice vegetable fried rice</td>\n",
       "      <td>Indian Subcontinent</td>\n",
       "      <td>17</td>\n",
       "      <td>easy</td>\n",
       "      <td>5</td>\n",
       "    </tr>\n",
       "    <tr>\n",
       "      <th>1</th>\n",
       "      <td>2</td>\n",
       "      <td>buttermilk , cumin , fenugreek , ginger garlic...</td>\n",
       "      <td>aachar aaloo</td>\n",
       "      <td>Indian Subcontinent</td>\n",
       "      <td>19</td>\n",
       "      <td>easy</td>\n",
       "      <td>4</td>\n",
       "    </tr>\n",
       "  </tbody>\n",
       "</table>\n",
       "</div>"
      ],
      "text/plain": [
       "   Recipe ID                                        Ingredients  \\\n",
       "0          1    capsicum , pepper bell , soy sauce , sunflower    \n",
       "1          2  buttermilk , cumin , fenugreek , ginger garlic...   \n",
       "\n",
       "                          Title              Cuisine  preparation_time  \\\n",
       "0  5 spice vegetable fried rice  Indian Subcontinent                17   \n",
       "1                  aachar aaloo  Indian Subcontinent                19   \n",
       "\n",
       "  difficulty_level  rating  \n",
       "0             easy       5  \n",
       "1             easy       4  "
      ]
     },
     "execution_count": 64,
     "metadata": {},
     "output_type": "execute_result"
    }
   ],
   "source": [
    "raw_df.head(2)"
   ]
  },
  {
   "cell_type": "code",
   "execution_count": 54,
   "metadata": {},
   "outputs": [
    {
     "name": "stderr",
     "output_type": "stream",
     "text": [
      "[nltk_data] Downloading package punkt to\n",
      "[nltk_data]     C:\\Users\\ishan\\AppData\\Roaming\\nltk_data...\n",
      "[nltk_data]   Package punkt is already up-to-date!\n"
     ]
    },
    {
     "data": {
      "text/plain": [
       "True"
      ]
     },
     "execution_count": 54,
     "metadata": {},
     "output_type": "execute_result"
    }
   ],
   "source": [
    "nltk.download('punkt')"
   ]
  },
  {
   "cell_type": "code",
   "execution_count": 65,
   "metadata": {},
   "outputs": [],
   "source": [
    "# Create an empty list to store the presence of \"egg\" for each row\n",
    "egg_present_list = []\n",
    "\n",
    "# Iterate over each row in the DataFrame\n",
    "for index, row in raw_df.iterrows():\n",
    "    ingredients_list = row['Ingredients']\n",
    "    ingredients_tokens = word_tokenize(ingredients_list)\n",
    "    if \"egg\" in ingredients_tokens:\n",
    "        egg_present_list.append(1)\n",
    "    else:\n",
    "        egg_present_list.append(0)\n",
    "\n",
    "# Add the list as a new column in the DataFrame\n",
    "raw_df['egg_present'] = egg_present_list\n",
    "    \n"
   ]
  },
  {
   "cell_type": "code",
   "execution_count": 66,
   "metadata": {},
   "outputs": [
    {
     "data": {
      "text/html": [
       "<div>\n",
       "<style scoped>\n",
       "    .dataframe tbody tr th:only-of-type {\n",
       "        vertical-align: middle;\n",
       "    }\n",
       "\n",
       "    .dataframe tbody tr th {\n",
       "        vertical-align: top;\n",
       "    }\n",
       "\n",
       "    .dataframe thead th {\n",
       "        text-align: right;\n",
       "    }\n",
       "</style>\n",
       "<table border=\"1\" class=\"dataframe\">\n",
       "  <thead>\n",
       "    <tr style=\"text-align: right;\">\n",
       "      <th></th>\n",
       "      <th>Recipe ID</th>\n",
       "      <th>Ingredients</th>\n",
       "      <th>Title</th>\n",
       "      <th>Cuisine</th>\n",
       "      <th>preparation_time</th>\n",
       "      <th>difficulty_level</th>\n",
       "      <th>rating</th>\n",
       "      <th>egg_present</th>\n",
       "    </tr>\n",
       "  </thead>\n",
       "  <tbody>\n",
       "    <tr>\n",
       "      <th>4601</th>\n",
       "      <td>4603</td>\n",
       "      <td>cooking oil , coriander seed , cumin , curry l...</td>\n",
       "      <td>Dosa Podi with Garlic</td>\n",
       "      <td>Indian Subcontinent</td>\n",
       "      <td>20</td>\n",
       "      <td>easy</td>\n",
       "      <td>1</td>\n",
       "      <td>0</td>\n",
       "    </tr>\n",
       "    <tr>\n",
       "      <th>45412</th>\n",
       "      <td>45435</td>\n",
       "      <td>artichoke , basil , bread , butter , chicken ,...</td>\n",
       "      <td>Pinto Bean, Sausage, and Fennel Gratin</td>\n",
       "      <td>USA</td>\n",
       "      <td>45</td>\n",
       "      <td>hard</td>\n",
       "      <td>2</td>\n",
       "      <td>0</td>\n",
       "    </tr>\n",
       "    <tr>\n",
       "      <th>27293</th>\n",
       "      <td>27303</td>\n",
       "      <td>basmati , bay leaf , brandy cognac , butter , ...</td>\n",
       "      <td>Shrimp Bisque</td>\n",
       "      <td>USA</td>\n",
       "      <td>5</td>\n",
       "      <td>easy</td>\n",
       "      <td>1</td>\n",
       "      <td>0</td>\n",
       "    </tr>\n",
       "    <tr>\n",
       "      <th>13245</th>\n",
       "      <td>13248</td>\n",
       "      <td>cilantro , garlic , garlic , habanero , lemon ...</td>\n",
       "      <td>Lemon Zest Mango Salsa</td>\n",
       "      <td>Spain</td>\n",
       "      <td>10</td>\n",
       "      <td>easy</td>\n",
       "      <td>3</td>\n",
       "      <td>0</td>\n",
       "    </tr>\n",
       "    <tr>\n",
       "      <th>7469</th>\n",
       "      <td>7471</td>\n",
       "      <td>cheese cheddar , corn oil , egg , flour , jala...</td>\n",
       "      <td>Jodi's Deep-Fried Stuffed Jalapenos</td>\n",
       "      <td>Mexico</td>\n",
       "      <td>45</td>\n",
       "      <td>hard</td>\n",
       "      <td>4</td>\n",
       "      <td>1</td>\n",
       "    </tr>\n",
       "  </tbody>\n",
       "</table>\n",
       "</div>"
      ],
      "text/plain": [
       "       Recipe ID                                        Ingredients  \\\n",
       "4601        4603  cooking oil , coriander seed , cumin , curry l...   \n",
       "45412      45435  artichoke , basil , bread , butter , chicken ,...   \n",
       "27293      27303  basmati , bay leaf , brandy cognac , butter , ...   \n",
       "13245      13248  cilantro , garlic , garlic , habanero , lemon ...   \n",
       "7469        7471  cheese cheddar , corn oil , egg , flour , jala...   \n",
       "\n",
       "                                        Title              Cuisine  \\\n",
       "4601                    Dosa Podi with Garlic  Indian Subcontinent   \n",
       "45412  Pinto Bean, Sausage, and Fennel Gratin                  USA   \n",
       "27293                           Shrimp Bisque                  USA   \n",
       "13245                  Lemon Zest Mango Salsa                Spain   \n",
       "7469      Jodi's Deep-Fried Stuffed Jalapenos               Mexico   \n",
       "\n",
       "       preparation_time difficulty_level  rating  egg_present  \n",
       "4601                 20             easy       1            0  \n",
       "45412                45             hard       2            0  \n",
       "27293                 5             easy       1            0  \n",
       "13245                10             easy       3            0  \n",
       "7469                 45             hard       4            1  "
      ]
     },
     "execution_count": 66,
     "metadata": {},
     "output_type": "execute_result"
    }
   ],
   "source": [
    "raw_df.sample(5)"
   ]
  },
  {
   "cell_type": "code",
   "execution_count": 52,
   "metadata": {},
   "outputs": [
    {
     "data": {
      "text/plain": [
       "egg_presnet\n",
       "0    45749\n",
       "Name: count, dtype: int64"
      ]
     },
     "execution_count": 52,
     "metadata": {},
     "output_type": "execute_result"
    }
   ],
   "source": [
    "raw_df['egg_presnet'].value_counts()"
   ]
  },
  {
   "cell_type": "code",
   "execution_count": 67,
   "metadata": {},
   "outputs": [],
   "source": [
    "raw_df.to_csv('egg_prsence_added_column_dataset.csv')"
   ]
  },
  {
   "cell_type": "code",
   "execution_count": null,
   "metadata": {},
   "outputs": [],
   "source": []
  }
 ],
 "metadata": {
  "kernelspec": {
   "display_name": "base",
   "language": "python",
   "name": "python3"
  },
  "language_info": {
   "codemirror_mode": {
    "name": "ipython",
    "version": 3
   },
   "file_extension": ".py",
   "mimetype": "text/x-python",
   "name": "python",
   "nbconvert_exporter": "python",
   "pygments_lexer": "ipython3",
   "version": "3.11.5"
  }
 },
 "nbformat": 4,
 "nbformat_minor": 2
}
